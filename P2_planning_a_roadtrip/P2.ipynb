{
 "cells": [
  {
   "cell_type": "markdown",
   "metadata": {},
   "source": [
    "# P2 - PLANNING A ROADTRIP\n",
    "\n",
    "Today's challenge is about solving the **Shortest Path Problem**.\n",
    "\n",
    "## Problem\n",
    "\n",
    "My friend VictORia and I are planning a road trip.\n",
    "\n",
    "We want to drive from Madrid to Copenhagen and we've seen there are a lot of ways to do it.\n",
    "\n",
    "Most probably, even if we wanted to go through Budapest, we cannot go that path. We have a limited budget for fuel of 73€, and we want to get the shortest possible way.\n",
    "\n",
    "## Objective Function\n",
    "\n",
    "Min distance\n",
    "\n",
    "## Constraints\n",
    "\n",
    "- Max total cost (budget) is 73.\n",
    "- Initial node (source) must be 1.\n",
    "- End node (target) must be 100.\n",
    "- Flow in all nodes (unless initial and end nodes) must be 0. It is, if we include an edge in our path, the end node of the edge must be the inital node of another edge included in the path.\n",
    "\n",
    "\n",
    "## Optimization method: Modified Dijkstra's Algorithm\n",
    "The modified Dijkstra algorithm finds the shortest path while respecting a budget constraint (e.g., cost). It tracks both distance and cumulative cost for each node. Paths exceeding the budget are discarded. A priority queue explores nodes in increasing distance and cost order, ensuring efficient constraint satisfaction and path discovery.\n",
    "\n",
    "\n",
    "1. **Initialize**:\n",
    "   - Use a priority queue with entries \\((distance, cost, node, path)\\).\n",
    "   - Start from the source with distance = 0, cost = 0, path = [source].\n",
    "\n",
    "2. **Process Queue**:\n",
    "   - Pop the node with the smallest distance.\n",
    "   - Skip if visited with the same or smaller cost.\n",
    "\n",
    "3. **Explore Neighbors**:\n",
    "   - For each neighbor, calculate new distance and cost.\n",
    "   - If the cost exceeds the budget, skip.\n",
    "   - If valid, push \\((new_distance, new_cost, neighbor, path + [neighbor])\\) to the queue.\n",
    "\n",
    "4. **Terminate**:\n",
    "   - Stop when the target node is reached within the budget or all paths are explored.\n",
    "\n",
    "5. **Output**:\n",
    "   - Return the shortest path, distance, and cost, or \"No solution\" if none exists.\n",
    "\n",
    "\n",
    "[Video to better understand Dijkstra's algorithm](https://www.youtube.com/watch?v=EFg3u_E6eHU&ab_channel=SpanningTree)"
   ]
  },
  {
   "cell_type": "code",
   "execution_count": null,
   "metadata": {},
   "outputs": [
    {
     "name": "stdout",
     "output_type": "stream",
     "text": [
      "Function Graph.constrained_shortest_path took 0.000997304916381836 seconds to run\n",
      "\n",
      "Path: [1, 37, 41, 2, 100]\n",
      "Distance: 131\n",
      "Cost: 44\n"
     ]
    }
   ],
   "source": [
    "import dijkstra\n",
    "from P2 import *\n",
    "\n",
    "instance = load_instance(\"instance.txt\")\n",
    "G = dijkstra.Graph(instance)\n",
    "path, distance, cost = G.constrained_shortest_path(1, 100)\n",
    "print(\"Path:\", path)\n",
    "print(\"Distance:\", distance)\n",
    "print(\"Cost:\", cost)"
   ]
  }
 ],
 "metadata": {
  "kernelspec": {
   "display_name": "Python 3",
   "language": "python",
   "name": "python3"
  },
  "language_info": {
   "codemirror_mode": {
    "name": "ipython",
    "version": 3
   },
   "file_extension": ".py",
   "mimetype": "text/x-python",
   "name": "python",
   "nbconvert_exporter": "python",
   "pygments_lexer": "ipython3",
   "version": "3.11.4"
  }
 },
 "nbformat": 4,
 "nbformat_minor": 2
}
